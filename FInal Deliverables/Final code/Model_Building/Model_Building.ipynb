{
  "nbformat": 4,
  "nbformat_minor": 0,
  "metadata": {
    "colab": {
      "provenance": []
    },
    "kernelspec": {
      "name": "python3",
      "display_name": "Python 3"
    },
    "language_info": {
      "name": "python"
    }
  },
  "cells": [
    {
      "cell_type": "markdown",
      "source": [
        "**DATA COLLECTION**"
      ],
      "metadata": {
        "id": "H2Zwb04m0261"
      }
    },
    {
      "cell_type": "code",
      "execution_count": 3,
      "metadata": {
        "colab": {
          "base_uri": "https://localhost:8080/"
        },
        "id": "CICQ30gi0SFT",
        "outputId": "18f88840-318c-4725-880f-439b746d9a88"
      },
      "outputs": [
        {
          "output_type": "stream",
          "name": "stdout",
          "text": [
            "Drive already mounted at /content/drive; to attempt to forcibly remount, call drive.mount(\"/content/drive\", force_remount=True).\n"
          ]
        }
      ],
      "source": [
        "from google.colab import drive\n",
        "drive.mount('/content/drive')"
      ]
    },
    {
      "cell_type": "code",
      "source": [
        "from keras.preprocessing.image import ImageDataGenerator"
      ],
      "metadata": {
        "id": "StrxtOu60r4z"
      },
      "execution_count": 2,
      "outputs": []
    },
    {
      "cell_type": "markdown",
      "source": [
        "**Define the parameters/arguments for ImageDataGenertor Class**"
      ],
      "metadata": {
        "id": "kMPv8W031XwK"
      }
    },
    {
      "cell_type": "code",
      "source": [
        "train_datagen=ImageDataGenerator(rescale=1./255,shear_range=0.2,zoom_range=0.2,horizontal_flip=True)"
      ],
      "metadata": {
        "id": "Fgu_d4q60yz0"
      },
      "execution_count": 4,
      "outputs": []
    },
    {
      "cell_type": "markdown",
      "source": [
        "**Applying ImageDataGenerator functionality to trainset and testset**"
      ],
      "metadata": {
        "id": "DkCerL051ncy"
      }
    },
    {
      "cell_type": "code",
      "source": [
        "train_datagen=ImageDataGenerator(rescale=1./255,shear_range=0.2,zoom_range=0.2,horizontal_flip=True)\n",
        "test_datagen=ImageDataGenerator(rescale=1./255)"
      ],
      "metadata": {
        "id": "tDO98LCw1kIo"
      },
      "execution_count": 5,
      "outputs": []
    },
    {
      "cell_type": "code",
      "source": [
        "x_train=train_datagen.flow_from_directory(r'/content/drive/MyDrive/DATASET/DATASET/test',target_size=(64,64),batch_size=32,color_mode='grayscale',class_mode='categorical')\n",
        "x_test=train_datagen.flow_from_directory(r'/content/drive/MyDrive/DATASET/DATASET/train',target_size=(64,64),batch_size=32,color_mode='grayscale',class_mode='categorical')"
      ],
      "metadata": {
        "colab": {
          "base_uri": "https://localhost:8080/"
        },
        "id": "dVUZCaeP1rZe",
        "outputId": "682a68a4-e2a5-47de-ed16-8afd467f07e0"
      },
      "execution_count": 6,
      "outputs": [
        {
          "output_type": "stream",
          "name": "stdout",
          "text": [
            "Found 30 images belonging to 6 classes.\n",
            "Found 594 images belonging to 6 classes.\n"
          ]
        }
      ]
    },
    {
      "cell_type": "markdown",
      "source": [
        "**MODEL BUILDING**"
      ],
      "metadata": {
        "id": "F1CpsG5i2Mvs"
      }
    },
    {
      "cell_type": "markdown",
      "source": [
        "*Importing necessary libraries*"
      ],
      "metadata": {
        "id": "W-_4UyYE2Tc-"
      }
    },
    {
      "cell_type": "code",
      "source": [
        "import numpy as np\n",
        "import tensorflow\n",
        "from tensorflow.keras.models import Sequential\n",
        "from keras.models import Model\n",
        "from tensorflow.keras import layers\n",
        "from tensorflow.keras.layers import Dense,Flatten\n",
        "from tensorflow.keras.layers import Conv2D,MaxPooling2D"
      ],
      "metadata": {
        "id": "7LUdxqjN2Jt2"
      },
      "execution_count": 7,
      "outputs": []
    },
    {
      "cell_type": "markdown",
      "source": [
        "*Initializing The Model*"
      ],
      "metadata": {
        "id": "VRetr6DK2YWL"
      }
    },
    {
      "cell_type": "code",
      "source": [
        "model=Sequential()"
      ],
      "metadata": {
        "id": "YLa8THqU2Qrg"
      },
      "execution_count": 8,
      "outputs": []
    },
    {
      "cell_type": "markdown",
      "source": [
        "*Adding CNN Layers*"
      ],
      "metadata": {
        "id": "Y0tsmxXJ2gW-"
      }
    },
    {
      "cell_type": "code",
      "source": [
        "model.add(Conv2D(32,(3,3),input_shape=(64,64,1),activation='relu'))\n",
        "model.add(MaxPooling2D(pool_size=(2,2)))\n",
        "model.add(Conv2D(32,(3,3),activation='relu'))\n",
        "model.add(MaxPooling2D(pool_size=(2,2)))\n",
        "model.add(Flatten())"
      ],
      "metadata": {
        "id": "BPzb3jfA2d-c"
      },
      "execution_count": 9,
      "outputs": []
    },
    {
      "cell_type": "markdown",
      "source": [
        "*Adding Dense Layer*"
      ],
      "metadata": {
        "id": "OMAJ6Rr12lmg"
      }
    },
    {
      "cell_type": "code",
      "source": [
        "model.add(Dense(units=128,activation='relu'))\n",
        "model.add(Dense(units=6,activation='softmax'))"
      ],
      "metadata": {
        "id": "A4nyi3zA2jQ8"
      },
      "execution_count": 10,
      "outputs": []
    },
    {
      "cell_type": "code",
      "source": [
        "model.summary()"
      ],
      "metadata": {
        "colab": {
          "base_uri": "https://localhost:8080/"
        },
        "id": "dLTZnt4c2oS_",
        "outputId": "c925d5ec-451b-4675-c63a-8551e5113540"
      },
      "execution_count": 11,
      "outputs": [
        {
          "output_type": "stream",
          "name": "stdout",
          "text": [
            "Model: \"sequential\"\n",
            "_________________________________________________________________\n",
            " Layer (type)                Output Shape              Param #   \n",
            "=================================================================\n",
            " conv2d (Conv2D)             (None, 62, 62, 32)        320       \n",
            "                                                                 \n",
            " max_pooling2d (MaxPooling2D  (None, 31, 31, 32)       0         \n",
            " )                                                               \n",
            "                                                                 \n",
            " conv2d_1 (Conv2D)           (None, 29, 29, 32)        9248      \n",
            "                                                                 \n",
            " max_pooling2d_1 (MaxPooling  (None, 14, 14, 32)       0         \n",
            " 2D)                                                             \n",
            "                                                                 \n",
            " flatten (Flatten)           (None, 6272)              0         \n",
            "                                                                 \n",
            " dense (Dense)               (None, 128)               802944    \n",
            "                                                                 \n",
            " dense_1 (Dense)             (None, 6)                 774       \n",
            "                                                                 \n",
            "=================================================================\n",
            "Total params: 813,286\n",
            "Trainable params: 813,286\n",
            "Non-trainable params: 0\n",
            "_________________________________________________________________\n"
          ]
        }
      ]
    },
    {
      "cell_type": "markdown",
      "source": [
        "**Configure The Learning Process**"
      ],
      "metadata": {
        "id": "GytuVRsH2w-m"
      }
    },
    {
      "cell_type": "code",
      "source": [
        "model.compile(optimizer='adam',loss='categorical_crossentropy',metrics=['accuracy'])"
      ],
      "metadata": {
        "id": "X9c8Y8ge2sBe"
      },
      "execution_count": 12,
      "outputs": []
    },
    {
      "cell_type": "markdown",
      "source": [
        "**Train The Model**"
      ],
      "metadata": {
        "id": "94oTsD7r29lc"
      }
    },
    {
      "cell_type": "code",
      "source": [
        "model.fit_generator(\n",
        "    generator=x_train,steps_per_epoch=len(x_train),\n",
        "    epochs=20,validation_data=x_test,validation_steps=len(x_test))"
      ],
      "metadata": {
        "colab": {
          "base_uri": "https://localhost:8080/"
        },
        "id": "NEGBszx927lv",
        "outputId": "a5f5019c-b719-49e5-edf3-fb82dc426f17"
      },
      "execution_count": 13,
      "outputs": [
        {
          "output_type": "stream",
          "name": "stderr",
          "text": [
            "/usr/local/lib/python3.7/dist-packages/ipykernel_launcher.py:3: UserWarning: `Model.fit_generator` is deprecated and will be removed in a future version. Please use `Model.fit`, which supports generators.\n",
            "  This is separate from the ipykernel package so we can avoid doing imports until\n"
          ]
        },
        {
          "output_type": "stream",
          "name": "stdout",
          "text": [
            "Epoch 1/20\n",
            "1/1 [==============================] - 146s 146s/step - loss: 1.7924 - accuracy: 0.2000 - val_loss: 1.8150 - val_accuracy: 0.2155\n",
            "Epoch 2/20\n",
            "1/1 [==============================] - 2s 2s/step - loss: 1.7706 - accuracy: 0.3000 - val_loss: 1.7454 - val_accuracy: 0.2761\n",
            "Epoch 3/20\n",
            "1/1 [==============================] - 2s 2s/step - loss: 1.6472 - accuracy: 0.7000 - val_loss: 1.7319 - val_accuracy: 0.2963\n",
            "Epoch 4/20\n",
            "1/1 [==============================] - 2s 2s/step - loss: 1.5970 - accuracy: 0.5333 - val_loss: 1.7104 - val_accuracy: 0.2811\n",
            "Epoch 5/20\n",
            "1/1 [==============================] - 2s 2s/step - loss: 1.5554 - accuracy: 0.5667 - val_loss: 1.6596 - val_accuracy: 0.3367\n",
            "Epoch 6/20\n",
            "1/1 [==============================] - 2s 2s/step - loss: 1.4617 - accuracy: 0.6333 - val_loss: 1.6295 - val_accuracy: 0.3620\n",
            "Epoch 7/20\n",
            "1/1 [==============================] - 2s 2s/step - loss: 1.3461 - accuracy: 0.7000 - val_loss: 1.6299 - val_accuracy: 0.3300\n",
            "Epoch 8/20\n",
            "1/1 [==============================] - 2s 2s/step - loss: 1.2941 - accuracy: 0.6667 - val_loss: 1.5637 - val_accuracy: 0.3519\n",
            "Epoch 9/20\n",
            "1/1 [==============================] - 2s 2s/step - loss: 1.1005 - accuracy: 0.7667 - val_loss: 1.5275 - val_accuracy: 0.4040\n",
            "Epoch 10/20\n",
            "1/1 [==============================] - 2s 2s/step - loss: 1.0025 - accuracy: 0.9000 - val_loss: 1.5830 - val_accuracy: 0.3300\n",
            "Epoch 11/20\n",
            "1/1 [==============================] - 2s 2s/step - loss: 0.8482 - accuracy: 0.8000 - val_loss: 1.6249 - val_accuracy: 0.3367\n",
            "Epoch 12/20\n",
            "1/1 [==============================] - 2s 2s/step - loss: 0.7651 - accuracy: 0.8667 - val_loss: 1.5588 - val_accuracy: 0.3889\n",
            "Epoch 13/20\n",
            "1/1 [==============================] - 2s 2s/step - loss: 0.7343 - accuracy: 0.8000 - val_loss: 1.5932 - val_accuracy: 0.3468\n",
            "Epoch 14/20\n",
            "1/1 [==============================] - 2s 2s/step - loss: 0.6327 - accuracy: 0.8000 - val_loss: 1.7350 - val_accuracy: 0.3670\n",
            "Epoch 15/20\n",
            "1/1 [==============================] - 2s 2s/step - loss: 0.6162 - accuracy: 0.9333 - val_loss: 1.6881 - val_accuracy: 0.3670\n",
            "Epoch 16/20\n",
            "1/1 [==============================] - 2s 2s/step - loss: 0.5321 - accuracy: 0.8333 - val_loss: 1.7278 - val_accuracy: 0.4310\n",
            "Epoch 17/20\n",
            "1/1 [==============================] - 2s 2s/step - loss: 0.4100 - accuracy: 0.9333 - val_loss: 1.8036 - val_accuracy: 0.4293\n",
            "Epoch 18/20\n",
            "1/1 [==============================] - 2s 2s/step - loss: 0.4264 - accuracy: 0.9000 - val_loss: 1.9291 - val_accuracy: 0.4057\n",
            "Epoch 19/20\n",
            "1/1 [==============================] - 2s 2s/step - loss: 0.3854 - accuracy: 0.8667 - val_loss: 2.1675 - val_accuracy: 0.3620\n",
            "Epoch 20/20\n",
            "1/1 [==============================] - 2s 2s/step - loss: 0.3808 - accuracy: 0.8000 - val_loss: 2.1048 - val_accuracy: 0.4024\n"
          ]
        },
        {
          "output_type": "execute_result",
          "data": {
            "text/plain": [
              "<keras.callbacks.History at 0x7f1e188ce390>"
            ]
          },
          "metadata": {},
          "execution_count": 13
        }
      ]
    },
    {
      "cell_type": "markdown",
      "source": [
        "**Save The Model**"
      ],
      "metadata": {
        "id": "9KovY9Bo314N"
      }
    },
    {
      "cell_type": "code",
      "source": [
        "model.save('gesture.h5')\n",
        "model_json=model.to_json()\n",
        "with open(\"model-bw.json\",\"w\") as json_file:\n",
        "  json_file.write(model_json)"
      ],
      "metadata": {
        "id": "7F-Ty_Yz35uV"
      },
      "execution_count": 14,
      "outputs": []
    },
    {
      "cell_type": "markdown",
      "source": [
        "**Test The Model**"
      ],
      "metadata": {
        "id": "DPlBFPRA3_sm"
      }
    },
    {
      "cell_type": "code",
      "source": [
        "import numpy as np\n",
        "from tensorflow.keras.models import load_model\n",
        "from tensorflow.keras.preprocessing import image\n",
        "test_model=load_model('gesture.h5')"
      ],
      "metadata": {
        "id": "wTjPLMZy39K7"
      },
      "execution_count": 15,
      "outputs": []
    },
    {
      "cell_type": "code",
      "source": [
        "img=image.load_img('/content/drive/MyDrive/DATASET/DATASET/test/1/1.jpg',target_size=(64,64))\n",
        "x=image.img_to_array(img)\n",
        "x=np.expand_dims(x,axis=0)\n",
        "predict_x=(model.predict(x_test)>0.5).astype(\"int64\")\n",
        "pred=np.argmax(predict_x,axis=-1)\n",
        "pred"
      ],
      "metadata": {
        "colab": {
          "base_uri": "https://localhost:8080/"
        },
        "id": "WLe6uDLk4DGN",
        "outputId": "68061163-5c4a-4c07-8522-9e4f633db3e4"
      },
      "execution_count": 29,
      "outputs": [
        {
          "output_type": "stream",
          "name": "stdout",
          "text": [
            "19/19 [==============================] - 2s 112ms/step\n"
          ]
        },
        {
          "output_type": "execute_result",
          "data": {
            "text/plain": [
              "array([0, 2, 3, 3, 3, 0, 2, 0, 2, 2, 5, 0, 1, 0, 2, 2, 1, 2, 5, 0, 4, 5,\n",
              "       5, 5, 2, 2, 2, 2, 2, 2, 2, 2, 2, 3, 2, 5, 5, 5, 2, 0, 4, 5, 0, 2,\n",
              "       5, 0, 0, 2, 2, 2, 2, 0, 5, 0, 5, 2, 5, 0, 2, 2, 1, 5, 5, 2, 2, 0,\n",
              "       2, 2, 2, 5, 5, 5, 5, 5, 3, 0, 0, 0, 0, 5, 5, 2, 2, 0, 2, 5, 5, 0,\n",
              "       3, 2, 0, 2, 2, 5, 2, 5, 2, 1, 5, 2, 3, 5, 2, 2, 5, 0, 0, 1, 2, 5,\n",
              "       1, 0, 5, 0, 0, 2, 0, 0, 2, 0, 0, 5, 5, 3, 2, 5, 5, 0, 5, 0, 2, 2,\n",
              "       0, 2, 5, 5, 5, 0, 4, 0, 5, 2, 5, 0, 2, 2, 5, 0, 5, 3, 2, 2, 2, 5,\n",
              "       2, 0, 2, 2, 5, 2, 2, 0, 0, 0, 2, 5, 2, 5, 2, 2, 2, 0, 2, 0, 5, 0,\n",
              "       2, 0, 5, 5, 2, 5, 2, 2, 3, 0, 0, 4, 5, 2, 0, 2, 2, 2, 5, 5, 3, 0,\n",
              "       2, 5, 3, 0, 5, 2, 0, 2, 5, 3, 5, 0, 1, 0, 2, 2, 3, 2, 5, 5, 5, 2,\n",
              "       2, 0, 5, 2, 0, 0, 0, 5, 2, 2, 3, 2, 5, 2, 3, 0, 2, 5, 2, 3, 2, 2,\n",
              "       3, 5, 5, 4, 2, 0, 2, 0, 0, 5, 0, 5, 2, 2, 0, 2, 5, 5, 5, 4, 2, 0,\n",
              "       2, 0, 5, 2, 5, 3, 5, 0, 2, 2, 2, 5, 5, 2, 2, 5, 5, 0, 2, 5, 2, 5,\n",
              "       5, 0, 2, 2, 5, 0, 5, 2, 5, 0, 2, 2, 4, 0, 5, 5, 2, 1, 4, 5, 5, 2,\n",
              "       2, 1, 2, 0, 2, 5, 2, 2, 2, 2, 0, 2, 1, 5, 0, 5, 5, 2, 2, 5, 5, 0,\n",
              "       0, 0, 5, 0, 3, 0, 2, 5, 2, 5, 2, 5, 2, 5, 5, 1, 2, 5, 5, 2, 0, 2,\n",
              "       3, 2, 0, 0, 0, 2, 3, 2, 2, 3, 5, 0, 5, 2, 3, 2, 5, 1, 2, 5, 2, 2,\n",
              "       5, 2, 5, 0, 5, 1, 5, 0, 5, 2, 2, 2, 0, 2, 5, 5, 2, 0, 2, 5, 2, 0,\n",
              "       2, 1, 2, 2, 0, 1, 0, 2, 0, 5, 5, 2, 2, 1, 2, 3, 3, 0, 2, 2, 0, 5,\n",
              "       5, 2, 2, 0, 0, 2, 5, 5, 2, 2, 2, 5, 2, 0, 0, 5, 2, 2, 0, 0, 2, 0,\n",
              "       5, 2, 2, 3, 1, 5, 2, 3, 2, 0, 2, 2, 2, 2, 2, 2, 5, 2, 0, 2, 5, 3,\n",
              "       0, 0, 5, 2, 2, 5, 5, 0, 5, 5, 2, 2, 5, 5, 2, 0, 4, 3, 2, 0, 2, 5,\n",
              "       2, 5, 2, 5, 2, 2, 1, 2, 2, 2, 5, 2, 2, 5, 0, 5, 2, 0, 3, 5, 0, 5,\n",
              "       5, 0, 3, 2, 2, 2, 5, 0, 0, 0, 2, 5, 2, 5, 0, 2, 3, 5, 5, 2, 5, 2,\n",
              "       0, 3, 2, 2, 2, 0, 0, 2, 4, 2, 5, 0, 2, 2, 2, 2, 5, 1, 3, 5, 3, 0,\n",
              "       2, 0, 0, 0, 3, 5, 2, 0, 2, 5, 2, 1, 5, 0, 5, 5, 2, 1, 2, 2, 0, 0,\n",
              "       1, 2, 2, 0, 2, 5, 0, 2, 0, 2, 0, 5, 2, 5, 0, 5, 4, 2, 2, 0, 5, 2])"
            ]
          },
          "metadata": {},
          "execution_count": 29
        }
      ]
    },
    {
      "cell_type": "code",
      "source": [
        "img=image.load_img('/content/drive/MyDrive/DATASET/DATASET/test/5/0.jpg',target_size=(64,64))\n",
        "x=image.img_to_array(img)\n",
        "x=np.expand_dims(x,axis=0)\n",
        "predict_x=model.predict(x_test)\n",
        "classes_x=np.argmax(predict_x,axis=1)\n",
        "classes_x\n",
        "predict_x"
      ],
      "metadata": {
        "colab": {
          "base_uri": "https://localhost:8080/"
        },
        "id": "VJQ_K5lU4FTm",
        "outputId": "5e3de942-b106-436a-9317-106cd48b2a9f"
      },
      "execution_count": 23,
      "outputs": [
        {
          "output_type": "stream",
          "name": "stdout",
          "text": [
            "19/19 [==============================] - 2s 113ms/step\n"
          ]
        },
        {
          "output_type": "execute_result",
          "data": {
            "text/plain": [
              "array([[3.63650324e-05, 1.00673385e-01, 8.84924829e-01, 9.27196909e-03,\n",
              "        2.19488959e-03, 2.89856945e-03],\n",
              "       [1.09729765e-04, 6.09397963e-02, 8.96766007e-01, 1.42396037e-02,\n",
              "        1.71308201e-02, 1.08139990e-02],\n",
              "       [9.10579634e-04, 4.29182090e-02, 5.15802264e-01, 3.14076841e-01,\n",
              "        6.87084198e-02, 5.75836748e-02],\n",
              "       ...,\n",
              "       [1.13933806e-04, 4.84528864e-04, 3.30845662e-03, 9.36015010e-01,\n",
              "        4.24098596e-02, 1.76681578e-02],\n",
              "       [9.91293371e-01, 6.63017039e-04, 4.79599075e-05, 3.76093225e-03,\n",
              "        1.05844589e-03, 3.17617063e-03],\n",
              "       [9.86273953e-05, 2.10130867e-02, 4.58884448e-01, 4.73550670e-02,\n",
              "        2.86796633e-02, 4.43969071e-01]], dtype=float32)"
            ]
          },
          "metadata": {},
          "execution_count": 23
        }
      ]
    },
    {
      "cell_type": "code",
      "source": [
        "import matplotlib.pyplot as plt\n",
        "import matplotlib.image as mpimg\n",
        "img=mpimg.imread('/content/drive/MyDrive/DATASET/DATASET/test/5/0.jpg')\n",
        "imgplot=plt.imshow(img)\n",
        "plt.show()"
      ],
      "metadata": {
        "colab": {
          "base_uri": "https://localhost:8080/",
          "height": 269
        },
        "id": "RO4uDziB4jSD",
        "outputId": "9880dd85-8f3c-4fcb-c923-d07d2ece7f01"
      },
      "execution_count": 21,
      "outputs": [
        {
          "output_type": "display_data",
          "data": {
            "text/plain": [
              "<Figure size 432x288 with 1 Axes>"
            ],
            "image/png": "[encoded data removed]"
          },
          "metadata": {
            "needs_background": "light"
          }
        }
      ]
    },
    {
      "cell_type": "code",
      "source": [
        "imgload=image.load_img('/content/drive/MyDrive/DATASET/DATASET/test/5/0.jpg',color_mode='grayscale',target_size=(64,64))\n",
        "res=image.img_to_array(imgload)\n",
        "res.shape"
      ],
      "metadata": {
        "colab": {
          "base_uri": "https://localhost:8080/"
        },
        "id": "yKiOYs5G4oHu",
        "outputId": "6d1c6efc-b3df-47ec-e168-8d15d458d39a"
      },
      "execution_count": 22,
      "outputs": [
        {
          "output_type": "execute_result",
          "data": {
            "text/plain": [
              "(64, 64, 1)"
            ]
          },
          "metadata": {},
          "execution_count": 22
        }
      ]
    },
    {
      "cell_type": "code",
      "source": [
        "type(res)"
      ],
      "metadata": {
        "colab": {
          "base_uri": "https://localhost:8080/"
        },
        "id": "-ywZD09I46y9",
        "outputId": "75d52cc9-1c6d-40f4-b84d-7abe14a71dc2"
      },
      "execution_count": 24,
      "outputs": [
        {
          "output_type": "execute_result",
          "data": {
            "text/plain": [
              "numpy.ndarray"
            ]
          },
          "metadata": {},
          "execution_count": 24
        }
      ]
    },
    {
      "cell_type": "code",
      "source": [
        "res=np.expand_dims(res,axis=0)\n",
        "res.shape"
      ],
      "metadata": {
        "colab": {
          "base_uri": "https://localhost:8080/"
        },
        "id": "dgtDOgxQ5DfO",
        "outputId": "63bc0412-6e42-45c8-b21e-249c866f30bf"
      },
      "execution_count": 25,
      "outputs": [
        {
          "output_type": "execute_result",
          "data": {
            "text/plain": [
              "(1, 64, 64, 1)"
            ]
          },
          "metadata": {},
          "execution_count": 25
        }
      ]
    },
    {
      "cell_type": "markdown",
      "source": [
        "**Predict the result**"
      ],
      "metadata": {
        "id": "dNnaqxvY5HSV"
      }
    },
    {
      "cell_type": "code",
      "source": [
        "pred_res=np.argmax(test_model.predict(res),axis=-1)\n",
        "pred_res"
      ],
      "metadata": {
        "colab": {
          "base_uri": "https://localhost:8080/"
        },
        "id": "ayt9zIrp5E_R",
        "outputId": "733b3d98-0ce5-4945-bf96-b1449e1766d8"
      },
      "execution_count": 26,
      "outputs": [
        {
          "output_type": "stream",
          "name": "stdout",
          "text": [
            "1/1 [==============================] - 0s 157ms/step\n"
          ]
        },
        {
          "output_type": "execute_result",
          "data": {
            "text/plain": [
              "array([5])"
            ]
          },
          "metadata": {},
          "execution_count": 26
        }
      ]
    },
    {
      "cell_type": "code",
      "source": [
        "index=['0','1','2','3','4','5']\n",
        "result=str(index[pred_res[0]])\n",
        "result"
      ],
      "metadata": {
        "colab": {
          "base_uri": "https://localhost:8080/",
          "height": 36
        },
        "id": "O3mBvA445Jku",
        "outputId": "c2cf1143-ec0b-4c32-c8f3-c7e42a3bba86"
      },
      "execution_count": 27,
      "outputs": [
        {
          "output_type": "execute_result",
          "data": {
            "text/plain": [
              "'5'"
            ],
            "application/vnd.google.colaboratory.intrinsic+json": {
              "type": "string"
            }
          },
          "metadata": {},
          "execution_count": 27
        }
      ]
    }
  ]
}